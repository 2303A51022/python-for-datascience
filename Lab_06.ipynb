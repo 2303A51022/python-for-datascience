{
  "nbformat": 4,
  "nbformat_minor": 0,
  "metadata": {
    "colab": {
      "provenance": [],
      "authorship_tag": "ABX9TyNkIryg1+u/Ra7zriLb7875",
      "include_colab_link": true
    },
    "kernelspec": {
      "name": "python3",
      "display_name": "Python 3"
    },
    "language_info": {
      "name": "python"
    }
  },
  "cells": [
    {
      "cell_type": "markdown",
      "metadata": {
        "id": "view-in-github",
        "colab_type": "text"
      },
      "source": [
        "<a href=\"https://colab.research.google.com/github/2303A51022/python-for-datascience/blob/main/Lab_06.ipynb\" target=\"_parent\"><img src=\"https://colab.research.google.com/assets/colab-badge.svg\" alt=\"Open In Colab\"/></a>"
      ]
    },
    {
      "cell_type": "code",
      "execution_count": 4,
      "metadata": {
        "colab": {
          "base_uri": "https://localhost:8080/"
        },
        "id": "kaGH7J_H9y5D",
        "outputId": "567764b9-f4ce-4cd6-9094-1d3c7c530b78"
      },
      "outputs": [
        {
          "output_type": "stream",
          "name": "stdout",
          "text": [
            "----- Original Sales Dataset -----\n",
            "   TransactionID CustomerName Product  Amount        Date\n",
            "0            101        Alice  Laptop    1000  2025-09-01\n",
            "1            102          Bob   Phone     500  2025-09-02\n",
            "2            103      Charlie  Tablet     300  2025-09-03\n",
            "3            104        David  Laptop    1000  2025-09-04\n",
            "4            105          Eva   Phone     500  2025-09-05\n",
            "5            103      Charlie  Tablet     300  2025-09-03\n",
            "6            106        Frank  Laptop    1200  2025-09-06\n",
            "7            104        David  Laptop    1000  2025-09-04\n",
            "\n",
            "Number of duplicate rows BEFORE cleaning: 2\n",
            "Number of duplicate rows AFTER cleaning: 0\n",
            "\n",
            "----- Cleaned Sales Dataset -----\n",
            "   TransactionID CustomerName Product  Amount        Date\n",
            "0            101        Alice  Laptop    1000  2025-09-01\n",
            "1            102          Bob   Phone     500  2025-09-02\n",
            "2            103      Charlie  Tablet     300  2025-09-03\n",
            "3            104        David  Laptop    1000  2025-09-04\n",
            "4            105          Eva   Phone     500  2025-09-05\n",
            "6            106        Frank  Laptop    1200  2025-09-06\n",
            "\n",
            "Why are duplicates harmful?\n",
            "1. Duplicates inflate sales figures and lead to inaccurate reports.\n",
            "2. They distort customer behavior analysis.\n",
            "3. They cause errors in financial forecasting.\n",
            "4. Removing them ensures data integrity and reliable insights.\n"
          ]
        }
      ],
      "source": [
        "import pandas as pd\n",
        "data = {\n",
        "    \"TransactionID\": [101, 102, 103, 104, 105, 103, 106, 104],\n",
        "    \"CustomerName\": [\"Alice\", \"Bob\", \"Charlie\", \"David\", \"Eva\", \"Charlie\", \"Frank\", \"David\"],\n",
        "    \"Product\": [\"Laptop\", \"Phone\", \"Tablet\", \"Laptop\", \"Phone\", \"Tablet\", \"Laptop\", \"Laptop\"],\n",
        "    \"Amount\": [1000, 500, 300, 1000, 500, 300, 1200, 1000],\n",
        "    \"Date\": [\"2025-09-01\", \"2025-09-02\", \"2025-09-03\", \"2025-09-04\",\n",
        "             \"2025-09-05\", \"2025-09-03\", \"2025-09-06\", \"2025-09-04\"]\n",
        "}\n",
        "\n",
        "sales_df = pd.DataFrame(data)\n",
        "\n",
        "print(\"----- Original Sales Dataset -----\")\n",
        "print(sales_df)\n",
        "duplicate_count = sales_df.duplicated().sum()\n",
        "print(\"\\nNumber of duplicate rows BEFORE cleaning:\", duplicate_count)\n",
        "cleaned_sales_df = sales_df.drop_duplicates()\n",
        "duplicate_count_after = cleaned_sales_df.duplicated().sum()\n",
        "print(\"Number of duplicate rows AFTER cleaning:\", duplicate_count_after)\n",
        "print(\"\\n----- Cleaned Sales Dataset -----\")\n",
        "print(cleaned_sales_df)\n",
        "print(\"\\nWhy are duplicates harmful?\")\n",
        "print(\"1. Duplicates inflate sales figures and lead to inaccurate reports.\")\n",
        "print(\"2. They distort customer behavior analysis.\")\n",
        "print(\"3. They cause errors in financial forecasting.\")\n",
        "print(\"4. Removing them ensures data integrity and reliable insights.\")\n"
      ]
    },
    {
      "cell_type": "code",
      "source": [
        "import pandas as pd\n",
        "data = {\n",
        "    \"EmployeeID\": [1, 2, 3, 4, 5],\n",
        "    \"Name\": [\"Alice\", \"Bob\", \"Charlie\", \"David\", \"Eva\"],\n",
        "    \"Salary\": [\"50000\", \"60000\", \"55000\", \"70000\", \"65000\"],   # Stored as strings\n",
        "    \"Joining_Date\": [\"2020-01-15\", \"2019-05-20\", \"2021-03-10\", \"2018-11-05\", \"2022-07-25\"] # Strings\n",
        "}\n",
        "\n",
        "employee_df = pd.DataFrame(data)\n",
        "\n",
        "print(\"----- Original Employee Dataset -----\")\n",
        "print(employee_df)\n",
        "print(\"\\nData Types Before Conversion:\")\n",
        "print(employee_df.dtypes)\n",
        "employee_df[\"Salary\"] = pd.to_numeric(employee_df[\"Salary\"])\n",
        "employee_df[\"Joining_Date\"] = pd.to_datetime(employee_df[\"Joining_Date\"])\n",
        "print(\"\\n----- Cleaned Employee Dataset -----\")\n",
        "print(employee_df)\n",
        "print(\"\\nData Types After Conversion:\")\n",
        "print(employee_df.dtypes)\n",
        "print(\"\\nWhy are correct data types important?\")\n",
        "print(\"1. Numeric types (like Salary) allow calculations such as averages, sums, and comparisons.\")\n",
        "print(\"2. Datetime types (like Joining_Date) enable time-based analysis such as tenure, promotions, and trends.\")\n",
        "print(\"3. Incorrect data types lead to errors or wrong results during analysis.\")\n",
        "print(\"4. Correct data types improve performance, accuracy, and reliability of reports.\")\n"
      ],
      "metadata": {
        "colab": {
          "base_uri": "https://localhost:8080/"
        },
        "id": "y35qx3Q693sD",
        "outputId": "c51d7f2f-bcf7-4383-e43c-73699299a69f"
      },
      "execution_count": 3,
      "outputs": [
        {
          "output_type": "stream",
          "name": "stdout",
          "text": [
            "----- Original Employee Dataset -----\n",
            "   EmployeeID     Name Salary Joining_Date\n",
            "0           1    Alice  50000   2020-01-15\n",
            "1           2      Bob  60000   2019-05-20\n",
            "2           3  Charlie  55000   2021-03-10\n",
            "3           4    David  70000   2018-11-05\n",
            "4           5      Eva  65000   2022-07-25\n",
            "\n",
            "Data Types Before Conversion:\n",
            "EmployeeID       int64\n",
            "Name            object\n",
            "Salary          object\n",
            "Joining_Date    object\n",
            "dtype: object\n",
            "\n",
            "----- Cleaned Employee Dataset -----\n",
            "   EmployeeID     Name  Salary Joining_Date\n",
            "0           1    Alice   50000   2020-01-15\n",
            "1           2      Bob   60000   2019-05-20\n",
            "2           3  Charlie   55000   2021-03-10\n",
            "3           4    David   70000   2018-11-05\n",
            "4           5      Eva   65000   2022-07-25\n",
            "\n",
            "Data Types After Conversion:\n",
            "EmployeeID               int64\n",
            "Name                    object\n",
            "Salary                   int64\n",
            "Joining_Date    datetime64[ns]\n",
            "dtype: object\n",
            "\n",
            "Why are correct data types important?\n",
            "1. Numeric types (like Salary) allow calculations such as averages, sums, and comparisons.\n",
            "2. Datetime types (like Joining_Date) enable time-based analysis such as tenure, promotions, and trends.\n",
            "3. Incorrect data types lead to errors or wrong results during analysis.\n",
            "4. Correct data types improve performance, accuracy, and reliability of reports.\n"
          ]
        }
      ]
    }
  ]
}